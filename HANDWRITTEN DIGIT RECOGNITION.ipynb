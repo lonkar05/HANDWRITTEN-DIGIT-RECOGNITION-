{
 "cells": [
  {
   "cell_type": "code",
   "execution_count": 3,
   "metadata": {},
   "outputs": [],
   "source": [
    "#First we are importing the libraries that we need to use for the code.\n",
    "import numpy\n",
    "from keras.datasets import mnist\n",
    "from keras.models import Sequential\n",
    "from keras.layers import Dense, Dropout, Flatten\n",
    "from keras.layers import Conv2D, MaxPooling2D, MaxPool2D\n",
    "from keras import backend as K\n",
    "import matplotlib.pyplot as plt\n",
    "\n",
    "# the data, split between train and test sets\n",
    "from keras.utils import np_utils\n",
    "from matplotlib import pyplot\n",
    "from sklearn.model_selection import KFold\n",
    "from tensorflow.python.keras import Sequential\n",
    "from tensorflow.python.keras.optimizers import SGD\n"
   ]
  },
  {
   "cell_type": "code",
   "execution_count": 5,
   "metadata": {},
   "outputs": [],
   "source": [
    "#Input the data\n",
    "\n",
    "def input_data():\n",
    "\n",
    "    (X_train, y_train), (X_test, y_test) = mnist.load_data()\n",
    "\n",
    "    # Reshape to be samples*pixels*width*height\n",
    "    X_train = X_train.reshape(X_train.shape[0], 28, 28, 1).astype('float32')\n",
    "    X_test = X_test.reshape(X_test.shape[0], 28, 28, 1).astype('float32')\n",
    "\n",
    "    # One hot Cpde\n",
    "    y_train = np_utils.to_categorical(y_train)\n",
    "    y_test = np_utils.to_categorical(y_test)\n",
    "    num_classes = y_test.shape[1]\n",
    "\n",
    "    # convert from integers to floats\n",
    "    X_train = X_train.astype('float32')\n",
    "    X_test = X_test.astype('float32')\n",
    "    # normalize to range [0, 1]\n",
    "    X_train = (X_train / 255.0)\n",
    "    X_test = (X_test / 255.0)\n",
    "\n",
    "    return X_test, y_test, X_train, y_train\n"
   ]
  },
  {
   "cell_type": "code",
   "execution_count": 7,
   "metadata": {},
   "outputs": [],
   "source": [
    "#Now we have to create a model\n",
    "def create_model():\n",
    "    # Create model\n",
    "    # Building CNN\n",
    "    model = Sequential()\n",
    "    model.add(Conv2D(32, (3, 3), activation='relu', kernel_initializer='he_uniform', input_shape=(28, 28, 1)))\n",
    "    model.add(MaxPooling2D((2, 2)))\n",
    "    model.add(Conv2D(64, (3, 3), activation='relu', kernel_initializer='he_uniform'))\n",
    "    model.add(Conv2D(64, (3, 3), activation='relu', kernel_initializer='he_uniform'))\n",
    "    model.add(MaxPooling2D((2, 2)))\n",
    "    model.add(Flatten())\n",
    "    model.add(Dense(100, activation='relu', kernel_initializer='he_uniform'))\n",
    "    model.add(Dense(10, activation='softmax'))\n",
    "    model.summary()\n",
    "\n",
    "    # compile model\n",
    "    model.compile(loss='categorical_crossentropy', optimizer='adam', metrics=['accuracy'])\n",
    "    return model\n",
    "\n",
    " "
   ]
  },
  {
   "cell_type": "code",
   "execution_count": 8,
   "metadata": {},
   "outputs": [],
   "source": [
    "#Train the model according to the requirement\n",
    "def evaluate_model(X_train, y_Train, n_folds=5):\n",
    "\n",
    "    accuracy, data = list(), list()\n",
    "\n",
    "    # prepare 5-cross validation\n",
    "    kfold = KFold(n_folds, shuffle=True, random_state=1)\n",
    "\n",
    "    for x_train, x_test in kfold.split(X_train):\n",
    "        # create model\n",
    "        model = create_model()\n",
    "        # select rows for train and test\n",
    "        trainX, trainY, testX, testY = X_train[x_train], y_Train[x_train], X_train[x_test], y_Train[x_test]\n",
    "        # fit model\n",
    "        data_fit = model.fit(trainX, trainY, validation_data=(testX, testY), epochs=10, batch_size=32)\n",
    "        # evaluate model\n",
    "        _, acc = model.evaluate(testX, testY, verbose=0)\n",
    "        # stores accuracy\n",
    "        accuracy.append(acc)\n",
    "        data.append(data_fit)\n",
    "    return accuracy, data\n",
    "\n"
   ]
  },
  {
   "cell_type": "code",
   "execution_count": 9,
   "metadata": {},
   "outputs": [],
   "source": [
    "#plot the graphs\n",
    "def summarize_diagnostics(data):\n",
    "    for i in range(len(data)):\n",
    "        # plot loss\n",
    "        pyplot.subplot(2, 1, 1)\n",
    "        pyplot.title('Cross Entropy Loss')\n",
    "        pyplot.plot(data[i].history['loss'], color='red', label='green')\n",
    "        pyplot.plot(data[i].history['val_loss'], color='orange', label='test')\n",
    "        # plot accuracy\n",
    "        pyplot.subplot(2, 1, 2)\n",
    "        pyplot.title('Classification Accuracy')\n",
    "        pyplot.plot(data[i].history['accuracy'], color='blue', label='train')\n",
    "        pyplot.plot(data[i].history['val_accuracy'], color='orange', label='test')\n",
    "    pyplot.show()\n",
    "\n"
   ]
  },
  {
   "cell_type": "code",
   "execution_count": 10,
   "metadata": {},
   "outputs": [],
   "source": [
    "#check the accuracy of the train model \n",
    "def summarize_performance(acc):\n",
    "    # print summary\n",
    "    print('Accuracy: mean=%.3f std=%.3f, n=%d' % (numpy.mean(acc) * 100, numpy.std(acc) * 100, len(acc)))\n",
    "\n",
    "    # box and whisker plots of results\n",
    "    pyplot.boxplot(acc)\n",
    "    pyplot.show()\n"
   ]
  },
  {
   "cell_type": "code",
   "execution_count": 11,
   "metadata": {},
   "outputs": [],
   "source": [
    "#now we will check the prediction\n",
    "def test(X_train, model):\n",
    "    test_images = X_train[1:5]\n",
    "    test_images = test_images.reshape(test_images.shape[0], 28, 28)\n",
    "\n",
    "    for i, test_image in enumerate(test_images, start=1):\n",
    "        org_image = test_image\n",
    "        test_image = test_image.reshape(1, 28, 28, 1)\n",
    "        prediction = model.predict_classes(test_image, verbose=0)\n",
    "\n",
    "        print(\"Predicted digit: {}\".format(prediction[0]))\n",
    "        plt.subplot(220 + i)\n",
    "        plt.axis('off')\n",
    "        plt.title(\"Predicted digit: {}\".format(prediction[0]))\n",
    "        plt.imshow(org_image, cmap=plt.get_cmap('gray'))\n",
    "\n",
    "    plt.show()\n"
   ]
  },
  {
   "cell_type": "code",
   "execution_count": 12,
   "metadata": {},
   "outputs": [],
   "source": [
    "#now run the model\n",
    "def run():\n",
    "    X_test, y_test, X_train, y_train = input_data()\n",
    "\n",
    "    # Evaluate\n",
    "    #accuracy, data = evaluate_model(X_train, y_train)\n",
    "    # summarize_diagnostics(data)\n",
    "    # summarize_performance(accuracy)\n",
    "    model = create_model()\n",
    "    model.fit(X_train, y_train, validation_data=(X_test, y_test), epochs=10, batch_size=200)\n",
    "    # TEST\n",
    "    # for images alreday\n",
    "    test(X_train, model)\n",
    "\n",
    "    # serialize model to JSON\n",
    "    model_json = model.to_json()\n",
    "    with open(\"model.json\", \"w\") as json_file:\n",
    "        json_file.write(model_json)\n",
    "    # serialize weights to HDF5\n",
    "    model.save_weights(\"model.h5\")\n",
    "    print(\"Saved model to disk\")\n",
    "\n"
   ]
  },
  {
   "cell_type": "code",
   "execution_count": 13,
   "metadata": {},
   "outputs": [],
   "source": [
    "#import the required libraries \n",
    "import cv2\n",
    "import numpy as np\n",
    "from tensorflow.python.keras.models import load_model\n",
    "import matplotlib.pyplot as plt\n"
   ]
  },
  {
   "cell_type": "code",
   "execution_count": 14,
   "metadata": {},
   "outputs": [
    {
     "data": {
      "image/png": "[encoded data removed]",
      "text/plain": [
       "<Figure size 432x288 with 1 Axes>"
      ]
     },
     "metadata": {
      "needs_background": "light"
     },
     "output_type": "display_data"
    },
    {
     "name": "stdout",
     "output_type": "stream",
     "text": [
      "Predicted Number:  4\n"
     ]
    },
    {
     "data": {
      "text/plain": [
       "4"
      ]
     },
     "execution_count": 14,
     "metadata": {},
     "output_type": "execute_result"
    }
   ],
   "source": [
    "# run the model and predic the test image and you will see the output\n",
    "def predict(img):\n",
    "    image = img.copy()\n",
    "    image = cv2.cvtColor(image, cv2.COLOR_BGR2GRAY)\n",
    "    image = cv2.threshold(image, 140, 255, cv2.THRESH_BINARY)[1]\n",
    "    image = cv2.resize(image, (28, 28))\n",
    "    # display_image(image)\n",
    "    image = image.astype('float32')\n",
    "    image = image.reshape(1, 28, 28, 1)\n",
    "    image /= 255\n",
    "\n",
    "    plt.imshow(image.reshape(28, 28), cmap='Greys')\n",
    "    plt.show()\n",
    "    model = load_model('cnn.hdf5')\n",
    "    pred = model.predict(image.reshape(1, 28, 28, 1), batch_size=1)\n",
    "\n",
    "    print(\"Predicted Number: \", pred.argmax())\n",
    "\n",
    "    return pred.argmax()\n",
    "\n",
    "predict(cv2.imread('test1.png'))\n"
   ]
  },
  {
   "cell_type": "code",
   "execution_count": null,
   "metadata": {},
   "outputs": [],
   "source": []
  }
 ],
 "metadata": {
  "kernelspec": {
   "display_name": "Python 3",
   "language": "python",
   "name": "python3"
  },
  "language_info": {
   "codemirror_mode": {
    "name": "ipython",
    "version": 3
   },
   "file_extension": ".py",
   "mimetype": "text/x-python",
   "name": "python",
   "nbconvert_exporter": "python",
   "pygments_lexer": "ipython3",
   "version": "3.8.3"
  }
 },
 "nbformat": 4,
 "nbformat_minor": 5
}
